{
  "cells": [
    {
      "cell_type": "markdown",
      "metadata": {
        "id": "aUWVeZxc1alZ"
      },
      "source": [
        "# **Needleman-Wunsch Alogorith**"
      ]
    },
    {
      "cell_type": "code",
      "execution_count": 1,
      "metadata": {
        "id": "tsgQa6KFnvUk"
      },
      "outputs": [],
      "source": [
        "import numpy as np"
      ]
    },
    {
      "cell_type": "code",
      "execution_count": null,
      "metadata": {
        "colab": {
          "base_uri": "https://localhost:8080/"
        },
        "id": "GzZVkzik75I8",
        "outputId": "b6a610bb-34f9-4558-c1e7-0088fa28d5eb"
      },
      "outputs": [],
      "source": [
        "help(needleman_wunsch)"
      ]
    },
    {
      "cell_type": "code",
      "execution_count": 9,
      "metadata": {
        "id": "qTvKlpSEmnXi"
      },
      "outputs": [],
      "source": [
        "def needleman_wunsch(sequence_1: str, sequence_2: str):\n",
        "    \"\"\"\n",
        "    This function implements the Needleman Wunsch Algorithm.\n",
        "\n",
        "    Parameters:\n",
        "    - sequence_1 (str): The first input sequence.\n",
        "    - sequence_2 (str): The second input sequence.\n",
        "\n",
        "    Returns:\n",
        "    str: A string containing the two aligned sequences along with alignment symbol and the respective alignment score.\n",
        "\n",
        "    Algorithm Steps:\n",
        "    1. Initialize the alignment matrix and the score matrix.\n",
        "    2. Fill the score matrix with match and mismatch scores.\n",
        "    3. Initialize the gap-penalty values in the alignment matrix.\n",
        "    4. Fill the alignment matrix using dynamic programming to find the optimal alignment.\n",
        "    5. Perform backtracking to retrieve the aligned sequences and alignment symbols.\n",
        "    6. Print the alignment result including the aligned sequences, alignment symbol, and the alignment score.\n",
        "    \"\"\"\n",
        "    #Initializing the matrices\n",
        "    aln_matrix = np.zeros((len(sequence_1) + 1, len(sequence_2) + 1))\n",
        "    score_matrix = np.zeros((len(sequence_1), len(sequence_2)))\n",
        "\n",
        "    #Scores\n",
        "    match_score = 1\n",
        "    mismatch_score = -1\n",
        "    gap_penalty = -2\n",
        "\n",
        "    # Matrix Filling\n",
        "    for i in range(len(sequence_1)):\n",
        "        for j in range(len(sequence_2)):\n",
        "            if sequence_1[i] == sequence_2[j]:\n",
        "                score_matrix[i][j] = match_score\n",
        "            else:\n",
        "                score_matrix[i][j] = mismatch_score\n",
        "\n",
        "    #Initializing the gap-penalty values in matrix\n",
        "    for i in range(len(sequence_1) + 1):\n",
        "        aln_matrix[i][0] = i * gap_penalty\n",
        "    for j in range(len(sequence_2) + 1):\n",
        "        aln_matrix[0][j] = j * gap_penalty\n",
        "\n",
        "    #Matrix Filling\n",
        "    for i in range(1, len(sequence_1) + 1):\n",
        "        for j in range(1, len(sequence_2) + 1):\n",
        "            aln_matrix[i][j] = max(aln_matrix[i - 1][j - 1] + score_matrix[i - 1][j - 1],\n",
        "                                    aln_matrix[i - 1][j] + gap_penalty,\n",
        "                                    aln_matrix[i][j - 1] + gap_penalty)\n",
        "    score = aln_matrix[-1][-1]\n",
        "\n",
        "    #Backtracking:\n",
        "    aligned_1 = \"\"\n",
        "    aligned_2 = \"\"\n",
        "    aln_symbol = \"\"\n",
        "    seq_i, seq_j = len(sequence_1), len(sequence_2)\n",
        "\n",
        "    while seq_i > 0 or seq_j > 0:\n",
        "        if seq_i > 0 and seq_j > 0 and aln_matrix[seq_i][seq_j] == aln_matrix[seq_i - 1][seq_j - 1] + \\\n",
        "                score_matrix[seq_i - 1][seq_j - 1]:\n",
        "            aligned_1 = sequence_1[seq_i - 1] + aligned_1\n",
        "            aligned_2 = sequence_2[seq_j - 1] + aligned_2\n",
        "\n",
        "            if sequence_1[seq_i - 1] == sequence_2[seq_j - 1]:\n",
        "                aln_symbol = \"|\" + aln_symbol\n",
        "            else:\n",
        "                aln_symbol = \" \" + aln_symbol\n",
        "\n",
        "            seq_i -= 1\n",
        "            seq_j -= 1\n",
        "\n",
        "        elif seq_i > 0 and aln_matrix[seq_i][seq_j] == aln_matrix[seq_i - 1][seq_j] + gap_penalty:\n",
        "            aligned_1 = sequence_1[seq_i - 1] + aligned_1\n",
        "            aligned_2 = \"-\" + aligned_2\n",
        "\n",
        "            if sequence_1[seq_i - 1] == sequence_2[seq_j - 1]:\n",
        "                aln_symbol = \"|\" + aln_symbol\n",
        "            else:\n",
        "                aln_symbol = \" \" + aln_symbol\n",
        "\n",
        "            seq_i -= 1\n",
        "\n",
        "        else:\n",
        "            aligned_1 = \"-\" + aligned_1\n",
        "            aligned_2 = sequence_2[seq_j - 1] + aligned_2\n",
        "\n",
        "            if sequence_1[seq_i - 1] == sequence_2[seq_j - 1]:\n",
        "                aln_symbol = \"|\" + aln_symbol\n",
        "            else:\n",
        "                aln_symbol = \" \" + aln_symbol\n",
        "\n",
        "            seq_j -= 1\n",
        "\n",
        "    print(f\"Sequence 1: {sequence_1}\\nSequence 2: {sequence_2}\")\n",
        "    print(f\"Alignment Result - \")\n",
        "    print(f\"{aligned_1}\")\n",
        "    print(f\"{aln_symbol}\")\n",
        "    print(f\"{aligned_2}\")\n",
        "    print(f\"Score = {score}\\n\")"
      ]
    },
    {
      "cell_type": "code",
      "execution_count": null,
      "metadata": {
        "colab": {
          "base_uri": "https://localhost:8080/"
        },
        "id": "Fui8p8IH4fD3",
        "outputId": "dbf809ca-399b-48ee-df5e-a8ed8adf965a"
      },
      "outputs": [],
      "source": [
        "#Before running the code please change the file path\n",
        "with open(\"align_nw.txt\", \"r\") as file:\n",
        "    lines = file.readlines()\n",
        "\n",
        "#Taking two strings at a time\n",
        "for i in range(0, len(lines), 2):\n",
        "    sequence_1 = lines[i].strip()\n",
        "    sequence_2 = lines[i + 1].strip()\n",
        "\n",
        "    alignment_result = needleman_wunsch(sequence_1, sequence_2)"
      ]
    }
  ],
  "metadata": {
    "colab": {
      "provenance": []
    },
    "kernelspec": {
      "display_name": "Python 3",
      "name": "python3"
    },
    "language_info": {
      "codemirror_mode": {
        "name": "ipython",
        "version": 3
      },
      "file_extension": ".py",
      "mimetype": "text/x-python",
      "name": "python",
      "nbconvert_exporter": "python",
      "pygments_lexer": "ipython3",
      "version": "3.11.5"
    }
  },
  "nbformat": 4,
  "nbformat_minor": 0
}
